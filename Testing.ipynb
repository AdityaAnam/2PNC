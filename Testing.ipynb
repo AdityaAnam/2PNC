{
  "nbformat": 4,
  "nbformat_minor": 0,
  "metadata": {
    "colab": {
      "name": "Testing.ipynb",
      "provenance": [],
      "collapsed_sections": [],
      "include_colab_link": true
    },
    "kernelspec": {
      "name": "python3",
      "display_name": "Python 3"
    },
    "language_info": {
      "name": "python"
    }
  },
  "cells": [
    {
      "cell_type": "markdown",
      "metadata": {
        "id": "view-in-github",
        "colab_type": "text"
      },
      "source": [
        "<a href=\"https://colab.research.google.com/github/AdityaAnam/2PNC/blob/main/Testing.ipynb\" target=\"_parent\"><img src=\"https://colab.research.google.com/assets/colab-badge.svg\" alt=\"Open In Colab\"/></a>"
      ]
    },
    {
      "cell_type": "code",
      "source": [
        "from google.colab import drive\n",
        "drive.mount('/content/drive')"
      ],
      "metadata": {
        "colab": {
          "base_uri": "https://localhost:8080/"
        },
        "id": "GEd4dwE0k_FG",
        "outputId": "61a48344-b7e5-41f8-cfce-573634c60d72"
      },
      "execution_count": 19,
      "outputs": [
        {
          "output_type": "stream",
          "name": "stdout",
          "text": [
            "Drive already mounted at /content/drive; to attempt to forcibly remount, call drive.mount(\"/content/drive\", force_remount=True).\n"
          ]
        }
      ]
    },
    {
      "cell_type": "code",
      "source": [
        "!pip install -U sentence-transformers\n",
        "!pip install googletrans==3.1.0a0\n",
        "!pip install arabic-reshaper\n",
        "!pip install python-bidi\n",
        "!pip install wordcloud"
      ],
      "metadata": {
        "colab": {
          "base_uri": "https://localhost:8080/"
        },
        "id": "nkGp5WV1wJbm",
        "outputId": "736e5bd4-c1b9-4745-d9e4-0b10739f756e"
      },
      "execution_count": 70,
      "outputs": [
        {
          "output_type": "stream",
          "name": "stdout",
          "text": [
            "Requirement already satisfied: sentence-transformers in /usr/local/lib/python3.7/dist-packages (2.1.0)\n",
            "Requirement already satisfied: torchvision in /usr/local/lib/python3.7/dist-packages (from sentence-transformers) (0.11.1+cu111)\n",
            "Requirement already satisfied: torch>=1.6.0 in /usr/local/lib/python3.7/dist-packages (from sentence-transformers) (1.10.0+cu111)\n",
            "Requirement already satisfied: scikit-learn in /usr/local/lib/python3.7/dist-packages (from sentence-transformers) (1.0.2)\n",
            "Requirement already satisfied: tokenizers>=0.10.3 in /usr/local/lib/python3.7/dist-packages (from sentence-transformers) (0.10.3)\n",
            "Requirement already satisfied: transformers<5.0.0,>=4.6.0 in /usr/local/lib/python3.7/dist-packages (from sentence-transformers) (4.15.0)\n",
            "Requirement already satisfied: numpy in /usr/local/lib/python3.7/dist-packages (from sentence-transformers) (1.19.5)\n",
            "Requirement already satisfied: nltk in /usr/local/lib/python3.7/dist-packages (from sentence-transformers) (3.2.5)\n",
            "Requirement already satisfied: scipy in /usr/local/lib/python3.7/dist-packages (from sentence-transformers) (1.4.1)\n",
            "Requirement already satisfied: huggingface-hub in /usr/local/lib/python3.7/dist-packages (from sentence-transformers) (0.4.0)\n",
            "Requirement already satisfied: tqdm in /usr/local/lib/python3.7/dist-packages (from sentence-transformers) (4.62.3)\n",
            "Requirement already satisfied: sentencepiece in /usr/local/lib/python3.7/dist-packages (from sentence-transformers) (0.1.96)\n",
            "Requirement already satisfied: typing-extensions in /usr/local/lib/python3.7/dist-packages (from torch>=1.6.0->sentence-transformers) (3.10.0.2)\n",
            "Requirement already satisfied: importlib-metadata in /usr/local/lib/python3.7/dist-packages (from transformers<5.0.0,>=4.6.0->sentence-transformers) (4.10.0)\n",
            "Requirement already satisfied: filelock in /usr/local/lib/python3.7/dist-packages (from transformers<5.0.0,>=4.6.0->sentence-transformers) (3.4.2)\n",
            "Requirement already satisfied: sacremoses in /usr/local/lib/python3.7/dist-packages (from transformers<5.0.0,>=4.6.0->sentence-transformers) (0.0.47)\n",
            "Requirement already satisfied: packaging>=20.0 in /usr/local/lib/python3.7/dist-packages (from transformers<5.0.0,>=4.6.0->sentence-transformers) (21.3)\n",
            "Requirement already satisfied: requests in /usr/local/lib/python3.7/dist-packages (from transformers<5.0.0,>=4.6.0->sentence-transformers) (2.23.0)\n",
            "Requirement already satisfied: pyyaml>=5.1 in /usr/local/lib/python3.7/dist-packages (from transformers<5.0.0,>=4.6.0->sentence-transformers) (6.0)\n",
            "Requirement already satisfied: regex!=2019.12.17 in /usr/local/lib/python3.7/dist-packages (from transformers<5.0.0,>=4.6.0->sentence-transformers) (2019.12.20)\n",
            "Requirement already satisfied: pyparsing!=3.0.5,>=2.0.2 in /usr/local/lib/python3.7/dist-packages (from packaging>=20.0->transformers<5.0.0,>=4.6.0->sentence-transformers) (3.0.6)\n",
            "Requirement already satisfied: zipp>=0.5 in /usr/local/lib/python3.7/dist-packages (from importlib-metadata->transformers<5.0.0,>=4.6.0->sentence-transformers) (3.7.0)\n",
            "Requirement already satisfied: six in /usr/local/lib/python3.7/dist-packages (from nltk->sentence-transformers) (1.15.0)\n",
            "Requirement already satisfied: urllib3!=1.25.0,!=1.25.1,<1.26,>=1.21.1 in /usr/local/lib/python3.7/dist-packages (from requests->transformers<5.0.0,>=4.6.0->sentence-transformers) (1.24.3)\n",
            "Requirement already satisfied: chardet<4,>=3.0.2 in /usr/local/lib/python3.7/dist-packages (from requests->transformers<5.0.0,>=4.6.0->sentence-transformers) (3.0.4)\n",
            "Requirement already satisfied: certifi>=2017.4.17 in /usr/local/lib/python3.7/dist-packages (from requests->transformers<5.0.0,>=4.6.0->sentence-transformers) (2021.10.8)\n",
            "Requirement already satisfied: idna<3,>=2.5 in /usr/local/lib/python3.7/dist-packages (from requests->transformers<5.0.0,>=4.6.0->sentence-transformers) (2.10)\n",
            "Requirement already satisfied: click in /usr/local/lib/python3.7/dist-packages (from sacremoses->transformers<5.0.0,>=4.6.0->sentence-transformers) (7.1.2)\n",
            "Requirement already satisfied: joblib in /usr/local/lib/python3.7/dist-packages (from sacremoses->transformers<5.0.0,>=4.6.0->sentence-transformers) (1.1.0)\n",
            "Requirement already satisfied: threadpoolctl>=2.0.0 in /usr/local/lib/python3.7/dist-packages (from scikit-learn->sentence-transformers) (3.0.0)\n",
            "Requirement already satisfied: pillow!=8.3.0,>=5.3.0 in /usr/local/lib/python3.7/dist-packages (from torchvision->sentence-transformers) (7.1.2)\n",
            "Requirement already satisfied: googletrans==3.1.0a0 in /usr/local/lib/python3.7/dist-packages (3.1.0a0)\n",
            "Requirement already satisfied: httpx==0.13.3 in /usr/local/lib/python3.7/dist-packages (from googletrans==3.1.0a0) (0.13.3)\n",
            "Requirement already satisfied: rfc3986<2,>=1.3 in /usr/local/lib/python3.7/dist-packages (from httpx==0.13.3->googletrans==3.1.0a0) (1.5.0)\n",
            "Requirement already satisfied: idna==2.* in /usr/local/lib/python3.7/dist-packages (from httpx==0.13.3->googletrans==3.1.0a0) (2.10)\n",
            "Requirement already satisfied: hstspreload in /usr/local/lib/python3.7/dist-packages (from httpx==0.13.3->googletrans==3.1.0a0) (2021.12.1)\n",
            "Requirement already satisfied: httpcore==0.9.* in /usr/local/lib/python3.7/dist-packages (from httpx==0.13.3->googletrans==3.1.0a0) (0.9.1)\n",
            "Requirement already satisfied: certifi in /usr/local/lib/python3.7/dist-packages (from httpx==0.13.3->googletrans==3.1.0a0) (2021.10.8)\n",
            "Requirement already satisfied: sniffio in /usr/local/lib/python3.7/dist-packages (from httpx==0.13.3->googletrans==3.1.0a0) (1.2.0)\n",
            "Requirement already satisfied: chardet==3.* in /usr/local/lib/python3.7/dist-packages (from httpx==0.13.3->googletrans==3.1.0a0) (3.0.4)\n",
            "Requirement already satisfied: h11<0.10,>=0.8 in /usr/local/lib/python3.7/dist-packages (from httpcore==0.9.*->httpx==0.13.3->googletrans==3.1.0a0) (0.9.0)\n",
            "Requirement already satisfied: h2==3.* in /usr/local/lib/python3.7/dist-packages (from httpcore==0.9.*->httpx==0.13.3->googletrans==3.1.0a0) (3.2.0)\n",
            "Requirement already satisfied: hpack<4,>=3.0 in /usr/local/lib/python3.7/dist-packages (from h2==3.*->httpcore==0.9.*->httpx==0.13.3->googletrans==3.1.0a0) (3.0.0)\n",
            "Requirement already satisfied: hyperframe<6,>=5.2.0 in /usr/local/lib/python3.7/dist-packages (from h2==3.*->httpcore==0.9.*->httpx==0.13.3->googletrans==3.1.0a0) (5.2.0)\n",
            "Collecting arabic-reshaper\n",
            "  Downloading arabic_reshaper-2.1.3-py3-none-any.whl (20 kB)\n",
            "Requirement already satisfied: future in /usr/local/lib/python3.7/dist-packages (from arabic-reshaper) (0.16.0)\n",
            "Requirement already satisfied: setuptools in /usr/local/lib/python3.7/dist-packages (from arabic-reshaper) (57.4.0)\n",
            "Installing collected packages: arabic-reshaper\n",
            "Successfully installed arabic-reshaper-2.1.3\n",
            "Collecting python-bidi\n",
            "  Downloading python_bidi-0.4.2-py2.py3-none-any.whl (30 kB)\n",
            "Requirement already satisfied: six in /usr/local/lib/python3.7/dist-packages (from python-bidi) (1.15.0)\n",
            "Installing collected packages: python-bidi\n",
            "Successfully installed python-bidi-0.4.2\n",
            "Requirement already satisfied: wordcloud in /usr/local/lib/python3.7/dist-packages (1.5.0)\n",
            "Requirement already satisfied: pillow in /usr/local/lib/python3.7/dist-packages (from wordcloud) (7.1.2)\n",
            "Requirement already satisfied: numpy>=1.6.1 in /usr/local/lib/python3.7/dist-packages (from wordcloud) (1.19.5)\n"
          ]
        }
      ]
    },
    {
      "cell_type": "code",
      "source": [
        "!pip install pyarabic"
      ],
      "metadata": {
        "colab": {
          "base_uri": "https://localhost:8080/"
        },
        "id": "ksd31qFuwT9v",
        "outputId": "6dc0f22d-3271-4771-b36c-a8dc7d507500"
      },
      "execution_count": 21,
      "outputs": [
        {
          "output_type": "stream",
          "name": "stdout",
          "text": [
            "Requirement already satisfied: pyarabic in /usr/local/lib/python3.7/dist-packages (0.6.14)\n",
            "Requirement already satisfied: six>=1.14.0 in /usr/local/lib/python3.7/dist-packages (from pyarabic) (1.15.0)\n"
          ]
        }
      ]
    },
    {
      "cell_type": "code",
      "source": [
        "import os\n",
        "#print(os.getcwd())\n",
        "#print(os.listdir())\n",
        "\n",
        "for root,dirs,files in os.walk(\"drive/MyDrive/Data_hadith/\"):\n",
        "        print (root)\n",
        "        print(\"FILES:\")\n",
        "        for filename in files:\n",
        "            print (filename)\n",
        "            print(os.path.join(root, filename))\n",
        "            print ('-----------------------')"
      ],
      "metadata": {
        "id": "U5KZ2YGCmD5v",
        "colab": {
          "base_uri": "https://localhost:8080/"
        },
        "outputId": "e6399745-c5b5-40fa-beb0-f1210ac56d6a"
      },
      "execution_count": 22,
      "outputs": [
        {
          "output_type": "stream",
          "name": "stdout",
          "text": [
            "drive/MyDrive/Data_hadith/\n",
            "FILES:\n",
            "all_hadiths_clean.csv\n",
            "drive/MyDrive/Data_hadith/all_hadiths_clean.csv\n",
            "-----------------------\n",
            "data (1).db\n",
            "drive/MyDrive/Data_hadith/data (1).db\n",
            "-----------------------\n"
          ]
        }
      ]
    },
    {
      "cell_type": "code",
      "source": [
        "import pandas as pd\n",
        "import numpy as np\n",
        "import re\n",
        "import arabic_reshaper\n",
        "from bidi.algorithm import get_display\n",
        "import matplotlib.pyplot as plt\n",
        "import seaborn as sns\n",
        "import collections\n",
        "import pprint\n",
        "from wordcloud import WordCloud , ImageColorGenerator\n",
        "from numpy.linalg import norm\n",
        "from googletrans import Translator\n",
        "import pyarabic.araby as araby\n",
        "from sentence_transformers import SentenceTransformer\n",
        "data= pd.read_csv('drive/MyDrive/Data_hadith/all_hadiths_clean.csv')\n",
        "data.head()"
      ],
      "metadata": {
        "id": "sKPw1Kn3mhUb",
        "colab": {
          "base_uri": "https://localhost:8080/",
          "height": 206
        },
        "outputId": "c6af1d19-60a2-4c4e-cf25-d1c174835e2b"
      },
      "execution_count": 71,
      "outputs": [
        {
          "output_type": "execute_result",
          "data": {
            "text/html": [
              "\n",
              "  <div id=\"df-dc6868f2-326e-4114-940a-4222c4c1ed93\">\n",
              "    <div class=\"colab-df-container\">\n",
              "      <div>\n",
              "<style scoped>\n",
              "    .dataframe tbody tr th:only-of-type {\n",
              "        vertical-align: middle;\n",
              "    }\n",
              "\n",
              "    .dataframe tbody tr th {\n",
              "        vertical-align: top;\n",
              "    }\n",
              "\n",
              "    .dataframe thead th {\n",
              "        text-align: right;\n",
              "    }\n",
              "</style>\n",
              "<table border=\"1\" class=\"dataframe\">\n",
              "  <thead>\n",
              "    <tr style=\"text-align: right;\">\n",
              "      <th></th>\n",
              "      <th>id</th>\n",
              "      <th>hadith_id</th>\n",
              "      <th>source</th>\n",
              "      <th>chapter_no</th>\n",
              "      <th>hadith_no</th>\n",
              "      <th>chapter</th>\n",
              "      <th>chain_indx</th>\n",
              "      <th>text_ar</th>\n",
              "      <th>text_en</th>\n",
              "    </tr>\n",
              "  </thead>\n",
              "  <tbody>\n",
              "    <tr>\n",
              "      <th>0</th>\n",
              "      <td>0</td>\n",
              "      <td>1</td>\n",
              "      <td>Sahih Bukhari</td>\n",
              "      <td>1</td>\n",
              "      <td>1</td>\n",
              "      <td>Revelation - كتاب بدء الوحى</td>\n",
              "      <td>30418, 20005, 11062, 11213, 11042, 3</td>\n",
              "      <td>حدثنا الحميدي عبد الله بن الزبير، قال حدثنا سف...</td>\n",
              "      <td>Narrated 'Umar bin Al-Khattab:          ...</td>\n",
              "    </tr>\n",
              "    <tr>\n",
              "      <th>1</th>\n",
              "      <td>1</td>\n",
              "      <td>2</td>\n",
              "      <td>Sahih Bukhari</td>\n",
              "      <td>1</td>\n",
              "      <td>2</td>\n",
              "      <td>Revelation - كتاب بدء الوحى</td>\n",
              "      <td>30355, 20001, 11065, 10511, 53</td>\n",
              "      <td>حدثنا عبد الله بن يوسف، قال أخبرنا مالك، عن هش...</td>\n",
              "      <td>Narrated 'Aisha:                        ...</td>\n",
              "    </tr>\n",
              "    <tr>\n",
              "      <th>2</th>\n",
              "      <td>2</td>\n",
              "      <td>3</td>\n",
              "      <td>Sahih Bukhari</td>\n",
              "      <td>1</td>\n",
              "      <td>3</td>\n",
              "      <td>Revelation - كتاب بدء الوحى</td>\n",
              "      <td>30399, 20023, 11207, 11013, 10511, 53</td>\n",
              "      <td>حدثنا يحيى بن بكير، قال حدثنا الليث، عن عقيل، ...</td>\n",
              "      <td>Narrated 'Aisha:                       (the m...</td>\n",
              "    </tr>\n",
              "    <tr>\n",
              "      <th>3</th>\n",
              "      <td>3</td>\n",
              "      <td>4</td>\n",
              "      <td>Sahih Bukhari</td>\n",
              "      <td>1</td>\n",
              "      <td>4</td>\n",
              "      <td>Revelation - كتاب بدء الوحى</td>\n",
              "      <td>11013, 10567, 34</td>\n",
              "      <td>قال ابن شهاب وأخبرني أبو سلمة بن عبد الرحمن، أ...</td>\n",
              "      <td>Narrated Jabir bin 'Abdullah Al-Ansari while ...</td>\n",
              "    </tr>\n",
              "    <tr>\n",
              "      <th>4</th>\n",
              "      <td>4</td>\n",
              "      <td>5</td>\n",
              "      <td>Sahih Bukhari</td>\n",
              "      <td>1</td>\n",
              "      <td>5</td>\n",
              "      <td>Revelation - كتاب بدء الوحى</td>\n",
              "      <td>20040, 20469, 11399, 11050, 17</td>\n",
              "      <td>حدثنا موسى بن إسماعيل، قال حدثنا أبو عوانة، قا...</td>\n",
              "      <td>Narrated Said bin Jubair:               ...</td>\n",
              "    </tr>\n",
              "  </tbody>\n",
              "</table>\n",
              "</div>\n",
              "      <button class=\"colab-df-convert\" onclick=\"convertToInteractive('df-dc6868f2-326e-4114-940a-4222c4c1ed93')\"\n",
              "              title=\"Convert this dataframe to an interactive table.\"\n",
              "              style=\"display:none;\">\n",
              "        \n",
              "  <svg xmlns=\"http://www.w3.org/2000/svg\" height=\"24px\"viewBox=\"0 0 24 24\"\n",
              "       width=\"24px\">\n",
              "    <path d=\"M0 0h24v24H0V0z\" fill=\"none\"/>\n",
              "    <path d=\"M18.56 5.44l.94 2.06.94-2.06 2.06-.94-2.06-.94-.94-2.06-.94 2.06-2.06.94zm-11 1L8.5 8.5l.94-2.06 2.06-.94-2.06-.94L8.5 2.5l-.94 2.06-2.06.94zm10 10l.94 2.06.94-2.06 2.06-.94-2.06-.94-.94-2.06-.94 2.06-2.06.94z\"/><path d=\"M17.41 7.96l-1.37-1.37c-.4-.4-.92-.59-1.43-.59-.52 0-1.04.2-1.43.59L10.3 9.45l-7.72 7.72c-.78.78-.78 2.05 0 2.83L4 21.41c.39.39.9.59 1.41.59.51 0 1.02-.2 1.41-.59l7.78-7.78 2.81-2.81c.8-.78.8-2.07 0-2.86zM5.41 20L4 18.59l7.72-7.72 1.47 1.35L5.41 20z\"/>\n",
              "  </svg>\n",
              "      </button>\n",
              "      \n",
              "  <style>\n",
              "    .colab-df-container {\n",
              "      display:flex;\n",
              "      flex-wrap:wrap;\n",
              "      gap: 12px;\n",
              "    }\n",
              "\n",
              "    .colab-df-convert {\n",
              "      background-color: #E8F0FE;\n",
              "      border: none;\n",
              "      border-radius: 50%;\n",
              "      cursor: pointer;\n",
              "      display: none;\n",
              "      fill: #1967D2;\n",
              "      height: 32px;\n",
              "      padding: 0 0 0 0;\n",
              "      width: 32px;\n",
              "    }\n",
              "\n",
              "    .colab-df-convert:hover {\n",
              "      background-color: #E2EBFA;\n",
              "      box-shadow: 0px 1px 2px rgba(60, 64, 67, 0.3), 0px 1px 3px 1px rgba(60, 64, 67, 0.15);\n",
              "      fill: #174EA6;\n",
              "    }\n",
              "\n",
              "    [theme=dark] .colab-df-convert {\n",
              "      background-color: #3B4455;\n",
              "      fill: #D2E3FC;\n",
              "    }\n",
              "\n",
              "    [theme=dark] .colab-df-convert:hover {\n",
              "      background-color: #434B5C;\n",
              "      box-shadow: 0px 1px 3px 1px rgba(0, 0, 0, 0.15);\n",
              "      filter: drop-shadow(0px 1px 2px rgba(0, 0, 0, 0.3));\n",
              "      fill: #FFFFFF;\n",
              "    }\n",
              "  </style>\n",
              "\n",
              "      <script>\n",
              "        const buttonEl =\n",
              "          document.querySelector('#df-dc6868f2-326e-4114-940a-4222c4c1ed93 button.colab-df-convert');\n",
              "        buttonEl.style.display =\n",
              "          google.colab.kernel.accessAllowed ? 'block' : 'none';\n",
              "\n",
              "        async function convertToInteractive(key) {\n",
              "          const element = document.querySelector('#df-dc6868f2-326e-4114-940a-4222c4c1ed93');\n",
              "          const dataTable =\n",
              "            await google.colab.kernel.invokeFunction('convertToInteractive',\n",
              "                                                     [key], {});\n",
              "          if (!dataTable) return;\n",
              "\n",
              "          const docLinkHtml = 'Like what you see? Visit the ' +\n",
              "            '<a target=\"_blank\" href=https://colab.research.google.com/notebooks/data_table.ipynb>data table notebook</a>'\n",
              "            + ' to learn more about interactive tables.';\n",
              "          element.innerHTML = '';\n",
              "          dataTable['output_type'] = 'display_data';\n",
              "          await google.colab.output.renderOutput(dataTable, element);\n",
              "          const docLink = document.createElement('div');\n",
              "          docLink.innerHTML = docLinkHtml;\n",
              "          element.appendChild(docLink);\n",
              "        }\n",
              "      </script>\n",
              "    </div>\n",
              "  </div>\n",
              "  "
            ],
            "text/plain": [
              "   id  ...                                            text_en\n",
              "0   0  ...        Narrated 'Umar bin Al-Khattab:          ...\n",
              "1   1  ...        Narrated 'Aisha:                        ...\n",
              "2   2  ...   Narrated 'Aisha:                       (the m...\n",
              "3   3  ...   Narrated Jabir bin 'Abdullah Al-Ansari while ...\n",
              "4   4  ...        Narrated Said bin Jubair:               ...\n",
              "\n",
              "[5 rows x 9 columns]"
            ]
          },
          "metadata": {},
          "execution_count": 71
        }
      ]
    },
    {
      "cell_type": "code",
      "source": [
        "data.text_ar[0]"
      ],
      "metadata": {
        "colab": {
          "base_uri": "https://localhost:8080/",
          "height": 54
        },
        "id": "v2R-C1O_pvmx",
        "outputId": "34d3aecf-f58c-414c-f431-ab8ea7c9e66d"
      },
      "execution_count": 24,
      "outputs": [
        {
          "output_type": "execute_result",
          "data": {
            "application/vnd.google.colaboratory.intrinsic+json": {
              "type": "string"
            },
            "text/plain": [
              "'حدثنا الحميدي عبد الله بن الزبير، قال حدثنا سفيان، قال حدثنا يحيى بن سعيد الأنصاري، قال أخبرني محمد بن إبراهيم التيمي، أنه سمع علقمة بن وقاص الليثي، يقول سمعت عمر بن الخطاب  رضى الله عنه  على المنبر قال سمعت رسول الله صلى الله عليه وسلم يقول \\u200f\"\\u200f إنما الأعمال بالنيات، وإنما لكل امرئ ما نوى، فمن كانت هجرته إلى دنيا يصيبها أو إلى امرأة ينكحها فهجرته إلى ما هاجر إليه \\u200f\"\\u200f\\u200f.\\u200f'"
            ]
          },
          "metadata": {},
          "execution_count": 24
        }
      ]
    },
    {
      "cell_type": "code",
      "source": [
        "import sqlite3\n",
        "!pip install setuptools"
      ],
      "metadata": {
        "colab": {
          "base_uri": "https://localhost:8080/"
        },
        "id": "EoeNY1v7GZVQ",
        "outputId": "c7687f1a-2fde-4d10-f4c5-6749fb29b1ea"
      },
      "execution_count": 25,
      "outputs": [
        {
          "output_type": "stream",
          "name": "stdout",
          "text": [
            "Requirement already satisfied: setuptools in /usr/local/lib/python3.7/dist-packages (57.4.0)\n"
          ]
        }
      ]
    },
    {
      "cell_type": "code",
      "source": [
        "def splilt_hadith_book(data):\n",
        "    \"\"\"\n",
        "        I will check if the hadith contain the exact search words\n",
        "        if it conain:\n",
        "            split it\n",
        "        else:\n",
        "            put whole hadith in sanad and matn\n",
        "    \"\"\"\n",
        "    splited_hadiths = []\n",
        "    searching_word_1 = \" رسول الله \"\n",
        "    searching_word_2 = \" النبى \"\n",
        "    padding_word = \" صلى الله عليه وسلم \"\n",
        "    f1, f2 = 0 , 0\n",
        "    n_not = 0\n",
        "\n",
        "    for hadith in data:\n",
        "        st = \"\"\n",
        "        st_1 = re.search(searching_word_1, hadith)\n",
        "        st_2 = re.search(searching_word_2, hadith)\n",
        "        # if hadith didn't containt specific spliting word/s\n",
        "        if st_1 == None and st_2 == None:\n",
        "            n_not +=1\n",
        "            splited_hadiths.append({\"sanad\" : hadith,\n",
        "                               \"matn\": hadith})\n",
        "            continue\n",
        "\n",
        "         # take the not None\n",
        "        if st_1 == None:\n",
        "            st = st_2 \n",
        "            f2 = 1\n",
        "        else:\n",
        "            st = st_1\n",
        "            f1 = 1\n",
        "        sanad = hadith[ : st.start()] + (searching_word_2 if f2 else searching_word_1)  + padding_word\n",
        "\n",
        "        matn = hadith[st.end()-1 + len(padding_word) : ]\n",
        "\n",
        "        splited_hadiths.append({\"sanad\" : sanad,\n",
        "                               \"matn\": matn})\n",
        "    return splited_hadiths"
      ],
      "metadata": {
        "id": "pPCYlEqJ5a6v"
      },
      "execution_count": 26,
      "outputs": []
    },
    {
      "cell_type": "code",
      "source": [
        "def normalize(sentence):\n",
        "    \"\"\"\n",
        "        replace all  صلي or النبي with صلى or النبى\n",
        "    \"\"\"\n",
        "    sentence = re.sub(\"صلي\", \"صلى\", sentence)\n",
        "    sentence = re.sub(\"النبي\", \"النبى\", sentence)\n",
        "    return sentence\n",
        "\n",
        "test_st = \"قال رسول الله صلي الله عليه وسلم ، قال النبي صلى الله عليه وسلم\"\n",
        "print(test_st)\n",
        "print(normalize(test_st))"
      ],
      "metadata": {
        "id": "kEotFJoY5hBU",
        "colab": {
          "base_uri": "https://localhost:8080/"
        },
        "outputId": "2fbe2385-fdf3-4e87-f157-bcc802982438"
      },
      "execution_count": 27,
      "outputs": [
        {
          "output_type": "stream",
          "name": "stdout",
          "text": [
            "قال رسول الله صلي الله عليه وسلم ، قال النبي صلى الله عليه وسلم\n",
            "قال رسول الله صلى الله عليه وسلم ، قال النبى صلى الله عليه وسلم\n"
          ]
        }
      ]
    },
    {
      "cell_type": "code",
      "source": [
        "List= []\n",
        "for hadith in data_test['text_ar']:\n",
        "    List.append(normalize(hadith))\n",
        "normalize_data_test= pd.DataFrame(List)\n",
        "normalize_data_test"
      ],
      "metadata": {
        "id": "dRpymuMu6FJH",
        "colab": {
          "base_uri": "https://localhost:8080/",
          "height": 424
        },
        "outputId": "6e6fc44e-e69a-4309-8a00-a03c66d972c5"
      },
      "execution_count": 31,
      "outputs": [
        {
          "output_type": "execute_result",
          "data": {
            "text/html": [
              "\n",
              "  <div id=\"df-0aa8401f-4816-4146-940f-57696b43f37e\">\n",
              "    <div class=\"colab-df-container\">\n",
              "      <div>\n",
              "<style scoped>\n",
              "    .dataframe tbody tr th:only-of-type {\n",
              "        vertical-align: middle;\n",
              "    }\n",
              "\n",
              "    .dataframe tbody tr th {\n",
              "        vertical-align: top;\n",
              "    }\n",
              "\n",
              "    .dataframe thead th {\n",
              "        text-align: right;\n",
              "    }\n",
              "</style>\n",
              "<table border=\"1\" class=\"dataframe\">\n",
              "  <thead>\n",
              "    <tr style=\"text-align: right;\">\n",
              "      <th></th>\n",
              "      <th>0</th>\n",
              "    </tr>\n",
              "  </thead>\n",
              "  <tbody>\n",
              "    <tr>\n",
              "      <th>0</th>\n",
              "      <td>حدثنا الحميدي عبد الله بن الزبير، قال حدثنا سف...</td>\n",
              "    </tr>\n",
              "    <tr>\n",
              "      <th>1</th>\n",
              "      <td>حدثنا عبد الله بن يوسف، قال أخبرنا مالك، عن هش...</td>\n",
              "    </tr>\n",
              "    <tr>\n",
              "      <th>2</th>\n",
              "      <td>حدثنا يحيى بن بكير، قال حدثنا الليث، عن عقيل، ...</td>\n",
              "    </tr>\n",
              "    <tr>\n",
              "      <th>3</th>\n",
              "      <td>قال ابن شهاب وأخبرني أبو سلمة بن عبد الرحمن، أ...</td>\n",
              "    </tr>\n",
              "    <tr>\n",
              "      <th>4</th>\n",
              "      <td>حدثنا موسى بن إسماعيل، قال حدثنا أبو عوانة، قا...</td>\n",
              "    </tr>\n",
              "    <tr>\n",
              "      <th>...</th>\n",
              "      <td>...</td>\n",
              "    </tr>\n",
              "    <tr>\n",
              "      <th>95</th>\n",
              "      <td>حدثنا مسدد، قال حدثنا أبو عوانة، عن أبي بشر، ع...</td>\n",
              "    </tr>\n",
              "    <tr>\n",
              "      <th>96</th>\n",
              "      <td>أخبرنا محمد  هو ابن سلام  حدثنا المحاربي، قال ...</td>\n",
              "    </tr>\n",
              "    <tr>\n",
              "      <th>97</th>\n",
              "      <td>حدثنا سليمان بن حرب، قال حدثنا شعبة، عن أيوب، ...</td>\n",
              "    </tr>\n",
              "    <tr>\n",
              "      <th>98</th>\n",
              "      <td>حدثنا عبد العزيز بن عبد الله، قال حدثني سليمان...</td>\n",
              "    </tr>\n",
              "    <tr>\n",
              "      <th>99</th>\n",
              "      <td>حدثنا إسماعيل بن أبي أويس، قال حدثني مالك، عن ...</td>\n",
              "    </tr>\n",
              "  </tbody>\n",
              "</table>\n",
              "<p>100 rows × 1 columns</p>\n",
              "</div>\n",
              "      <button class=\"colab-df-convert\" onclick=\"convertToInteractive('df-0aa8401f-4816-4146-940f-57696b43f37e')\"\n",
              "              title=\"Convert this dataframe to an interactive table.\"\n",
              "              style=\"display:none;\">\n",
              "        \n",
              "  <svg xmlns=\"http://www.w3.org/2000/svg\" height=\"24px\"viewBox=\"0 0 24 24\"\n",
              "       width=\"24px\">\n",
              "    <path d=\"M0 0h24v24H0V0z\" fill=\"none\"/>\n",
              "    <path d=\"M18.56 5.44l.94 2.06.94-2.06 2.06-.94-2.06-.94-.94-2.06-.94 2.06-2.06.94zm-11 1L8.5 8.5l.94-2.06 2.06-.94-2.06-.94L8.5 2.5l-.94 2.06-2.06.94zm10 10l.94 2.06.94-2.06 2.06-.94-2.06-.94-.94-2.06-.94 2.06-2.06.94z\"/><path d=\"M17.41 7.96l-1.37-1.37c-.4-.4-.92-.59-1.43-.59-.52 0-1.04.2-1.43.59L10.3 9.45l-7.72 7.72c-.78.78-.78 2.05 0 2.83L4 21.41c.39.39.9.59 1.41.59.51 0 1.02-.2 1.41-.59l7.78-7.78 2.81-2.81c.8-.78.8-2.07 0-2.86zM5.41 20L4 18.59l7.72-7.72 1.47 1.35L5.41 20z\"/>\n",
              "  </svg>\n",
              "      </button>\n",
              "      \n",
              "  <style>\n",
              "    .colab-df-container {\n",
              "      display:flex;\n",
              "      flex-wrap:wrap;\n",
              "      gap: 12px;\n",
              "    }\n",
              "\n",
              "    .colab-df-convert {\n",
              "      background-color: #E8F0FE;\n",
              "      border: none;\n",
              "      border-radius: 50%;\n",
              "      cursor: pointer;\n",
              "      display: none;\n",
              "      fill: #1967D2;\n",
              "      height: 32px;\n",
              "      padding: 0 0 0 0;\n",
              "      width: 32px;\n",
              "    }\n",
              "\n",
              "    .colab-df-convert:hover {\n",
              "      background-color: #E2EBFA;\n",
              "      box-shadow: 0px 1px 2px rgba(60, 64, 67, 0.3), 0px 1px 3px 1px rgba(60, 64, 67, 0.15);\n",
              "      fill: #174EA6;\n",
              "    }\n",
              "\n",
              "    [theme=dark] .colab-df-convert {\n",
              "      background-color: #3B4455;\n",
              "      fill: #D2E3FC;\n",
              "    }\n",
              "\n",
              "    [theme=dark] .colab-df-convert:hover {\n",
              "      background-color: #434B5C;\n",
              "      box-shadow: 0px 1px 3px 1px rgba(0, 0, 0, 0.15);\n",
              "      filter: drop-shadow(0px 1px 2px rgba(0, 0, 0, 0.3));\n",
              "      fill: #FFFFFF;\n",
              "    }\n",
              "  </style>\n",
              "\n",
              "      <script>\n",
              "        const buttonEl =\n",
              "          document.querySelector('#df-0aa8401f-4816-4146-940f-57696b43f37e button.colab-df-convert');\n",
              "        buttonEl.style.display =\n",
              "          google.colab.kernel.accessAllowed ? 'block' : 'none';\n",
              "\n",
              "        async function convertToInteractive(key) {\n",
              "          const element = document.querySelector('#df-0aa8401f-4816-4146-940f-57696b43f37e');\n",
              "          const dataTable =\n",
              "            await google.colab.kernel.invokeFunction('convertToInteractive',\n",
              "                                                     [key], {});\n",
              "          if (!dataTable) return;\n",
              "\n",
              "          const docLinkHtml = 'Like what you see? Visit the ' +\n",
              "            '<a target=\"_blank\" href=https://colab.research.google.com/notebooks/data_table.ipynb>data table notebook</a>'\n",
              "            + ' to learn more about interactive tables.';\n",
              "          element.innerHTML = '';\n",
              "          dataTable['output_type'] = 'display_data';\n",
              "          await google.colab.output.renderOutput(dataTable, element);\n",
              "          const docLink = document.createElement('div');\n",
              "          docLink.innerHTML = docLinkHtml;\n",
              "          element.appendChild(docLink);\n",
              "        }\n",
              "      </script>\n",
              "    </div>\n",
              "  </div>\n",
              "  "
            ],
            "text/plain": [
              "                                                    0\n",
              "0   حدثنا الحميدي عبد الله بن الزبير، قال حدثنا سف...\n",
              "1   حدثنا عبد الله بن يوسف، قال أخبرنا مالك، عن هش...\n",
              "2   حدثنا يحيى بن بكير، قال حدثنا الليث، عن عقيل، ...\n",
              "3   قال ابن شهاب وأخبرني أبو سلمة بن عبد الرحمن، أ...\n",
              "4   حدثنا موسى بن إسماعيل، قال حدثنا أبو عوانة، قا...\n",
              "..                                                ...\n",
              "95  حدثنا مسدد، قال حدثنا أبو عوانة، عن أبي بشر، ع...\n",
              "96  أخبرنا محمد  هو ابن سلام  حدثنا المحاربي، قال ...\n",
              "97  حدثنا سليمان بن حرب، قال حدثنا شعبة، عن أيوب، ...\n",
              "98  حدثنا عبد العزيز بن عبد الله، قال حدثني سليمان...\n",
              "99  حدثنا إسماعيل بن أبي أويس، قال حدثني مالك، عن ...\n",
              "\n",
              "[100 rows x 1 columns]"
            ]
          },
          "metadata": {},
          "execution_count": 31
        }
      ]
    },
    {
      "cell_type": "code",
      "source": [
        "List2 = splilt_hadith_book(List)\n",
        "splitted_data_test= pd.DataFrame(List2)\n",
        "splitted_data_test['sanad'][0]"
      ],
      "metadata": {
        "id": "nEh4UYkP5g_R",
        "colab": {
          "base_uri": "https://localhost:8080/",
          "height": 54
        },
        "outputId": "5628e307-a78f-4a5e-d5a5-9de238feeca0"
      },
      "execution_count": 32,
      "outputs": [
        {
          "output_type": "execute_result",
          "data": {
            "application/vnd.google.colaboratory.intrinsic+json": {
              "type": "string"
            },
            "text/plain": [
              "'حدثنا الحميدي عبد الله بن الزبير، قال حدثنا سفيان، قال حدثنا يحيى بن سعيد الأنصاري، قال أخبرني محمد بن إبراهيم التيمي، أنه سمع علقمة بن وقاص الليثي، يقول سمعت عمر بن الخطاب  رضى الله عنه  على المنبر قال سمعت رسول الله  صلى الله عليه وسلم '"
            ]
          },
          "metadata": {},
          "execution_count": 32
        }
      ]
    },
    {
      "cell_type": "markdown",
      "source": [
        "# New Section"
      ],
      "metadata": {
        "id": "3UAbFpyC9KfW"
      }
    },
    {
      "cell_type": "code",
      "source": [
        "data_test=data[:100]\n",
        "data_test"
      ],
      "metadata": {
        "id": "Kcj-GlMP5g6a",
        "colab": {
          "base_uri": "https://localhost:8080/",
          "height": 424
        },
        "outputId": "535adbb7-54bd-4d4a-ab53-15eef427e958"
      },
      "execution_count": 33,
      "outputs": [
        {
          "output_type": "execute_result",
          "data": {
            "text/html": [
              "\n",
              "  <div id=\"df-0760ba6c-8fa1-4fbf-a91c-96cccba124ac\">\n",
              "    <div class=\"colab-df-container\">\n",
              "      <div>\n",
              "<style scoped>\n",
              "    .dataframe tbody tr th:only-of-type {\n",
              "        vertical-align: middle;\n",
              "    }\n",
              "\n",
              "    .dataframe tbody tr th {\n",
              "        vertical-align: top;\n",
              "    }\n",
              "\n",
              "    .dataframe thead th {\n",
              "        text-align: right;\n",
              "    }\n",
              "</style>\n",
              "<table border=\"1\" class=\"dataframe\">\n",
              "  <thead>\n",
              "    <tr style=\"text-align: right;\">\n",
              "      <th></th>\n",
              "      <th>id</th>\n",
              "      <th>hadith_id</th>\n",
              "      <th>source</th>\n",
              "      <th>chapter_no</th>\n",
              "      <th>hadith_no</th>\n",
              "      <th>chapter</th>\n",
              "      <th>chain_indx</th>\n",
              "      <th>text_ar</th>\n",
              "      <th>text_en</th>\n",
              "    </tr>\n",
              "  </thead>\n",
              "  <tbody>\n",
              "    <tr>\n",
              "      <th>0</th>\n",
              "      <td>0</td>\n",
              "      <td>1</td>\n",
              "      <td>Sahih Bukhari</td>\n",
              "      <td>1</td>\n",
              "      <td>1</td>\n",
              "      <td>Revelation - كتاب بدء الوحى</td>\n",
              "      <td>30418, 20005, 11062, 11213, 11042, 3</td>\n",
              "      <td>حدثنا الحميدي عبد الله بن الزبير، قال حدثنا سف...</td>\n",
              "      <td>Narrated 'Umar bin Al-Khattab:          ...</td>\n",
              "    </tr>\n",
              "    <tr>\n",
              "      <th>1</th>\n",
              "      <td>1</td>\n",
              "      <td>2</td>\n",
              "      <td>Sahih Bukhari</td>\n",
              "      <td>1</td>\n",
              "      <td>2</td>\n",
              "      <td>Revelation - كتاب بدء الوحى</td>\n",
              "      <td>30355, 20001, 11065, 10511, 53</td>\n",
              "      <td>حدثنا عبد الله بن يوسف، قال أخبرنا مالك، عن هش...</td>\n",
              "      <td>Narrated 'Aisha:                        ...</td>\n",
              "    </tr>\n",
              "    <tr>\n",
              "      <th>2</th>\n",
              "      <td>2</td>\n",
              "      <td>3</td>\n",
              "      <td>Sahih Bukhari</td>\n",
              "      <td>1</td>\n",
              "      <td>3</td>\n",
              "      <td>Revelation - كتاب بدء الوحى</td>\n",
              "      <td>30399, 20023, 11207, 11013, 10511, 53</td>\n",
              "      <td>حدثنا يحيى بن بكير، قال حدثنا الليث، عن عقيل، ...</td>\n",
              "      <td>Narrated 'Aisha:                       (the m...</td>\n",
              "    </tr>\n",
              "    <tr>\n",
              "      <th>3</th>\n",
              "      <td>3</td>\n",
              "      <td>4</td>\n",
              "      <td>Sahih Bukhari</td>\n",
              "      <td>1</td>\n",
              "      <td>4</td>\n",
              "      <td>Revelation - كتاب بدء الوحى</td>\n",
              "      <td>11013, 10567, 34</td>\n",
              "      <td>قال ابن شهاب وأخبرني أبو سلمة بن عبد الرحمن، أ...</td>\n",
              "      <td>Narrated Jabir bin 'Abdullah Al-Ansari while ...</td>\n",
              "    </tr>\n",
              "    <tr>\n",
              "      <th>4</th>\n",
              "      <td>4</td>\n",
              "      <td>5</td>\n",
              "      <td>Sahih Bukhari</td>\n",
              "      <td>1</td>\n",
              "      <td>5</td>\n",
              "      <td>Revelation - كتاب بدء الوحى</td>\n",
              "      <td>20040, 20469, 11399, 11050, 17</td>\n",
              "      <td>حدثنا موسى بن إسماعيل، قال حدثنا أبو عوانة، قا...</td>\n",
              "      <td>Narrated Said bin Jubair:               ...</td>\n",
              "    </tr>\n",
              "    <tr>\n",
              "      <th>...</th>\n",
              "      <td>...</td>\n",
              "      <td>...</td>\n",
              "      <td>...</td>\n",
              "      <td>...</td>\n",
              "      <td>...</td>\n",
              "      <td>...</td>\n",
              "      <td>...</td>\n",
              "      <td>...</td>\n",
              "      <td>...</td>\n",
              "    </tr>\n",
              "    <tr>\n",
              "      <th>95</th>\n",
              "      <td>37</td>\n",
              "      <td>96</td>\n",
              "      <td>Sahih Bukhari</td>\n",
              "      <td>3</td>\n",
              "      <td>96</td>\n",
              "      <td>Knowledge - كتاب العلم</td>\n",
              "      <td>30175, 20469, 11419, 11264, 29</td>\n",
              "      <td>حدثنا مسدد، قال حدثنا أبو عوانة، عن أبي بشر، ع...</td>\n",
              "      <td>Narrated `Abdullah bin `Amr:                 ...</td>\n",
              "    </tr>\n",
              "    <tr>\n",
              "      <th>96</th>\n",
              "      <td>38</td>\n",
              "      <td>97</td>\n",
              "      <td>Sahih Bukhari</td>\n",
              "      <td>3</td>\n",
              "      <td>97</td>\n",
              "      <td>Knowledge - كتاب العلم</td>\n",
              "      <td>30376, 20333, 15239, 11052, 11901, 41</td>\n",
              "      <td>أخبرنا محمد  هو ابن سلام  حدثنا المحاربي، قال ...</td>\n",
              "      <td>Narrated Abu Burda's father:            ...</td>\n",
              "    </tr>\n",
              "    <tr>\n",
              "      <th>97</th>\n",
              "      <td>39</td>\n",
              "      <td>98</td>\n",
              "      <td>Sahih Bukhari</td>\n",
              "      <td>3</td>\n",
              "      <td>98</td>\n",
              "      <td>Knowledge - كتاب العلم</td>\n",
              "      <td>20193, 20020, 11015, 11029, 17</td>\n",
              "      <td>حدثنا سليمان بن حرب، قال حدثنا شعبة، عن أيوب، ...</td>\n",
              "      <td>Narrated Ibn 'Abbas:                    ...</td>\n",
              "    </tr>\n",
              "    <tr>\n",
              "      <th>98</th>\n",
              "      <td>40</td>\n",
              "      <td>99</td>\n",
              "      <td>Sahih Bukhari</td>\n",
              "      <td>3</td>\n",
              "      <td>99</td>\n",
              "      <td>Knowledge - كتاب العلم</td>\n",
              "      <td>30105, 20160, 11209, 11168, 13</td>\n",
              "      <td>حدثنا عبد العزيز بن عبد الله، قال حدثني سليمان...</td>\n",
              "      <td>Narrated Abu Huraira:                     I s...</td>\n",
              "    </tr>\n",
              "    <tr>\n",
              "      <th>99</th>\n",
              "      <td>41</td>\n",
              "      <td>100</td>\n",
              "      <td>Sahih Bukhari</td>\n",
              "      <td>3</td>\n",
              "      <td>100</td>\n",
              "      <td>Knowledge - كتاب العلم</td>\n",
              "      <td>30103, 20001, 11065, 10511, 29</td>\n",
              "      <td>حدثنا إسماعيل بن أبي أويس، قال حدثني مالك، عن ...</td>\n",
              "      <td>Narrated `Abdullah bin `Amr bin Al-`As:      ...</td>\n",
              "    </tr>\n",
              "  </tbody>\n",
              "</table>\n",
              "<p>100 rows × 9 columns</p>\n",
              "</div>\n",
              "      <button class=\"colab-df-convert\" onclick=\"convertToInteractive('df-0760ba6c-8fa1-4fbf-a91c-96cccba124ac')\"\n",
              "              title=\"Convert this dataframe to an interactive table.\"\n",
              "              style=\"display:none;\">\n",
              "        \n",
              "  <svg xmlns=\"http://www.w3.org/2000/svg\" height=\"24px\"viewBox=\"0 0 24 24\"\n",
              "       width=\"24px\">\n",
              "    <path d=\"M0 0h24v24H0V0z\" fill=\"none\"/>\n",
              "    <path d=\"M18.56 5.44l.94 2.06.94-2.06 2.06-.94-2.06-.94-.94-2.06-.94 2.06-2.06.94zm-11 1L8.5 8.5l.94-2.06 2.06-.94-2.06-.94L8.5 2.5l-.94 2.06-2.06.94zm10 10l.94 2.06.94-2.06 2.06-.94-2.06-.94-.94-2.06-.94 2.06-2.06.94z\"/><path d=\"M17.41 7.96l-1.37-1.37c-.4-.4-.92-.59-1.43-.59-.52 0-1.04.2-1.43.59L10.3 9.45l-7.72 7.72c-.78.78-.78 2.05 0 2.83L4 21.41c.39.39.9.59 1.41.59.51 0 1.02-.2 1.41-.59l7.78-7.78 2.81-2.81c.8-.78.8-2.07 0-2.86zM5.41 20L4 18.59l7.72-7.72 1.47 1.35L5.41 20z\"/>\n",
              "  </svg>\n",
              "      </button>\n",
              "      \n",
              "  <style>\n",
              "    .colab-df-container {\n",
              "      display:flex;\n",
              "      flex-wrap:wrap;\n",
              "      gap: 12px;\n",
              "    }\n",
              "\n",
              "    .colab-df-convert {\n",
              "      background-color: #E8F0FE;\n",
              "      border: none;\n",
              "      border-radius: 50%;\n",
              "      cursor: pointer;\n",
              "      display: none;\n",
              "      fill: #1967D2;\n",
              "      height: 32px;\n",
              "      padding: 0 0 0 0;\n",
              "      width: 32px;\n",
              "    }\n",
              "\n",
              "    .colab-df-convert:hover {\n",
              "      background-color: #E2EBFA;\n",
              "      box-shadow: 0px 1px 2px rgba(60, 64, 67, 0.3), 0px 1px 3px 1px rgba(60, 64, 67, 0.15);\n",
              "      fill: #174EA6;\n",
              "    }\n",
              "\n",
              "    [theme=dark] .colab-df-convert {\n",
              "      background-color: #3B4455;\n",
              "      fill: #D2E3FC;\n",
              "    }\n",
              "\n",
              "    [theme=dark] .colab-df-convert:hover {\n",
              "      background-color: #434B5C;\n",
              "      box-shadow: 0px 1px 3px 1px rgba(0, 0, 0, 0.15);\n",
              "      filter: drop-shadow(0px 1px 2px rgba(0, 0, 0, 0.3));\n",
              "      fill: #FFFFFF;\n",
              "    }\n",
              "  </style>\n",
              "\n",
              "      <script>\n",
              "        const buttonEl =\n",
              "          document.querySelector('#df-0760ba6c-8fa1-4fbf-a91c-96cccba124ac button.colab-df-convert');\n",
              "        buttonEl.style.display =\n",
              "          google.colab.kernel.accessAllowed ? 'block' : 'none';\n",
              "\n",
              "        async function convertToInteractive(key) {\n",
              "          const element = document.querySelector('#df-0760ba6c-8fa1-4fbf-a91c-96cccba124ac');\n",
              "          const dataTable =\n",
              "            await google.colab.kernel.invokeFunction('convertToInteractive',\n",
              "                                                     [key], {});\n",
              "          if (!dataTable) return;\n",
              "\n",
              "          const docLinkHtml = 'Like what you see? Visit the ' +\n",
              "            '<a target=\"_blank\" href=https://colab.research.google.com/notebooks/data_table.ipynb>data table notebook</a>'\n",
              "            + ' to learn more about interactive tables.';\n",
              "          element.innerHTML = '';\n",
              "          dataTable['output_type'] = 'display_data';\n",
              "          await google.colab.output.renderOutput(dataTable, element);\n",
              "          const docLink = document.createElement('div');\n",
              "          docLink.innerHTML = docLinkHtml;\n",
              "          element.appendChild(docLink);\n",
              "        }\n",
              "      </script>\n",
              "    </div>\n",
              "  </div>\n",
              "  "
            ],
            "text/plain": [
              "    id  ...                                            text_en\n",
              "0    0  ...        Narrated 'Umar bin Al-Khattab:          ...\n",
              "1    1  ...        Narrated 'Aisha:                        ...\n",
              "2    2  ...   Narrated 'Aisha:                       (the m...\n",
              "3    3  ...   Narrated Jabir bin 'Abdullah Al-Ansari while ...\n",
              "4    4  ...        Narrated Said bin Jubair:               ...\n",
              "..  ..  ...                                                ...\n",
              "95  37  ...   Narrated `Abdullah bin `Amr:                 ...\n",
              "96  38  ...        Narrated Abu Burda's father:            ...\n",
              "97  39  ...        Narrated Ibn 'Abbas:                    ...\n",
              "98  40  ...   Narrated Abu Huraira:                     I s...\n",
              "99  41  ...   Narrated `Abdullah bin `Amr bin Al-`As:      ...\n",
              "\n",
              "[100 rows x 9 columns]"
            ]
          },
          "metadata": {},
          "execution_count": 33
        }
      ]
    },
    {
      "cell_type": "code",
      "source": [
        "SplitDT= pd.DataFrame(List2)\n",
        "type(List2)"
      ],
      "metadata": {
        "colab": {
          "base_uri": "https://localhost:8080/"
        },
        "id": "2i0kZTjrBS4s",
        "outputId": "d878aa9c-0ff7-4d02-a593-d9a1d46f91b1"
      },
      "execution_count": 34,
      "outputs": [
        {
          "output_type": "execute_result",
          "data": {
            "text/plain": [
              "list"
            ]
          },
          "metadata": {},
          "execution_count": 34
        }
      ]
    },
    {
      "cell_type": "code",
      "source": [
        "SplitDT.sanad[0]"
      ],
      "metadata": {
        "colab": {
          "base_uri": "https://localhost:8080/",
          "height": 54
        },
        "id": "TtjhZT4bCkyv",
        "outputId": "2d7a9593-7551-414c-ae60-6338942e5350"
      },
      "execution_count": 35,
      "outputs": [
        {
          "output_type": "execute_result",
          "data": {
            "application/vnd.google.colaboratory.intrinsic+json": {
              "type": "string"
            },
            "text/plain": [
              "'حدثنا الحميدي عبد الله بن الزبير، قال حدثنا سفيان، قال حدثنا يحيى بن سعيد الأنصاري، قال أخبرني محمد بن إبراهيم التيمي، أنه سمع علقمة بن وقاص الليثي، يقول سمعت عمر بن الخطاب  رضى الله عنه  على المنبر قال سمعت رسول الله  صلى الله عليه وسلم '"
            ]
          },
          "metadata": {},
          "execution_count": 35
        }
      ]
    },
    {
      "cell_type": "code",
      "source": [
        "import pyarabic.araby as araby\n"
      ],
      "metadata": {
        "id": "Iojs8b83EcGV"
      },
      "execution_count": 36,
      "outputs": []
    },
    {
      "cell_type": "code",
      "source": [
        "!pip install pyarabic"
      ],
      "metadata": {
        "colab": {
          "base_uri": "https://localhost:8080/"
        },
        "id": "sZ3z5NhnEecU",
        "outputId": "5327d6e0-0403-438a-8fa2-65e5dd371a3e"
      },
      "execution_count": 37,
      "outputs": [
        {
          "output_type": "stream",
          "name": "stdout",
          "text": [
            "Requirement already satisfied: pyarabic in /usr/local/lib/python3.7/dist-packages (0.6.14)\n",
            "Requirement already satisfied: six>=1.14.0 in /usr/local/lib/python3.7/dist-packages (from pyarabic) (1.15.0)\n"
          ]
        }
      ]
    },
    {
      "cell_type": "code",
      "source": [
        "stop_words =['من','في', 'على','و','فى','يا','عن','مع','ان','هو','علي','ما','اللي','كل','بعد','ده','اليوم','أن','يوم','انا','إلى','كان','ايه','اللى','الى','دي','بين','انت','أنا','حتى','لما','فيه','هذا','واحد','احنا','اي','كده','إن','او','أو','عليه','ف','دى','مين','الي','كانت','أمام','زي','يكون','خلال','ع','كنت','هي','فيها','عند','التي','الذي','قال','هذه','قد','انه','ريتويت','بعض','أول','ايه','الان','أي','منذ','عليها','له','ال','تم','ب','دة','عليك','اى','كلها','اللتى','هى','دا','انك','وهو','ومن','منك','نحن','زى','أنت','انهم','معانا','حتي','وانا','عنه','إلي','ونحن','وانت','منكم','وان','معاهم','معايا','وأنا','عنها','إنه','اني','معك','اننا','فيهم','د','انتا','عنك','وهى','معا','آن','انتي','وأنت','وإن','ومع','وعن','معاكم','معاكو','معاها','وعليه','وانتم','وانتي','¿','|']"
      ],
      "metadata": {
        "id": "3Ddas0_rk67K"
      },
      "execution_count": 38,
      "outputs": []
    },
    {
      "cell_type": "code",
      "source": [
        "def seperate_names(sentence):\n",
        "\n",
        "    sentence = re.sub(\"حدثنا\", \"\", sentence)\n",
        "    sentence = re.sub(\"قال\", \"\", sentence)\n",
        "    sentence = re.sub(\"،\", \" : \", sentence)\n",
        "    sentence = re.sub(\"أنه سمع\", \"\", sentence)\n",
        "    sentence = re.sub(\"أخبرني\", \"\", sentence)\n",
        "    sentence = re.sub(\"يقول\", \"\", sentence)\n",
        "    return sentence\n",
        "\n",
        "test_st = \"حدثنا الحميدي عبد الله بن الزبير، قال حدثنا سفيان، قال حدثنا يحيى بن سعيد الأنصاري، قال أخبرني محمد بن إبراهيم التيمي، أنه سمع علقمة بن وقاص الليثي، يقول سمعت عمر بن الخطاب  رضى الله عنه  على المنبر قال سمعت رسول الله  صلى الله عليه وسلم\"\n",
        "print(seperate_names(test_st))"
      ],
      "metadata": {
        "colab": {
          "base_uri": "https://localhost:8080/"
        },
        "id": "u7pf5VyVqnc3",
        "outputId": "06d3a820-d012-4ced-c9e4-2c1331b0b1d0"
      },
      "execution_count": 39,
      "outputs": [
        {
          "output_type": "stream",
          "name": "stdout",
          "text": [
            " الحميدي عبد الله بن الزبير :    سفيان :    يحيى بن سعيد الأنصاري :    محمد بن إبراهيم التيمي :   علقمة بن وقاص الليثي :   سمعت عمر بن الخطاب  رضى الله عنه  على المنبر  سمعت رسول الله  صلى الله عليه وسلم\n"
          ]
        }
      ]
    },
    {
      "cell_type": "code",
      "source": [
        "from sentence_transformers import SentenceTransformer\n",
        "model = SentenceTransformer('bert-base-nli-mean-tokens')\n",
        "\n",
        "#Our sentences we like to encode\n",
        "sentences = data.text_en[:3]\n",
        "#Sentences are encoded by calling model.encode()\n",
        "#for sent in sentences:\n",
        "embeddings = model.encode(sentences,convert_to_numpy=True,normalize_embeddings= True)\n",
        "\n",
        "#Print the embeddings\n",
        "#for sentence, embedding in zip(sentences, embeddings):\n",
        "#   print(\"Sentence:\", sentence)\n",
        "#    print(\"Embedding:\", embedding)\n",
        "print(np.dot(embeddings[1],embeddings[0]))\n",
        "#print(np.dot(embeddings[0],embeddings[1])/(norm(embeddings[0])*norm(embeddings[1])))"
      ],
      "metadata": {
        "colab": {
          "base_uri": "https://localhost:8080/"
        },
        "id": "tnIKZzHNvtOl",
        "outputId": "8f4b6440-df8f-43e9-f002-dc0af7957b41"
      },
      "execution_count": 40,
      "outputs": [
        {
          "output_type": "stream",
          "name": "stdout",
          "text": [
            "0.6433797\n"
          ]
        }
      ]
    },
    {
      "cell_type": "code",
      "source": [
        "model = SentenceTransformer('bert-base-nli-mean-tokens')"
      ],
      "metadata": {
        "id": "jpRan8BR6-k5"
      },
      "execution_count": 41,
      "outputs": []
    },
    {
      "cell_type": "code",
      "source": [
        "def data_embeddor (data):\n",
        "  sentences = data.text_en\n",
        "  embeddings = model.encode(sentences,show_progress_bar=True,normalize_embeddings= True)\n",
        "  return(embeddings)"
      ],
      "metadata": {
        "id": "ymFyMYaz6rUd"
      },
      "execution_count": 42,
      "outputs": []
    },
    {
      "cell_type": "code",
      "source": [
        "def sentence_embeddor (sentence) :\n",
        "  return (model.encode(sentence,normalize_embeddings= True))"
      ],
      "metadata": {
        "id": "s0NbcATIl9q6"
      },
      "execution_count": 59,
      "outputs": []
    },
    {
      "cell_type": "code",
      "source": [
        "def tran(sentence):\n",
        "  trans_sentence=[]\n",
        "  translator = Translator()\n",
        "  trans_sentence= translator.translate(sentence, dest= 'en')\n",
        "  return(trans_sentence)"
      ],
      "metadata": {
        "id": "WkMI7j6t92h1"
      },
      "execution_count": 55,
      "outputs": []
    },
    {
      "cell_type": "code",
      "source": [
        "data.text_ar[1]"
      ],
      "metadata": {
        "colab": {
          "base_uri": "https://localhost:8080/",
          "height": 72
        },
        "id": "soVrFfSTF8rs",
        "outputId": "0f4f1f40-d56a-4e54-a481-f7f9e6b3847c"
      },
      "execution_count": 43,
      "outputs": [
        {
          "output_type": "execute_result",
          "data": {
            "application/vnd.google.colaboratory.intrinsic+json": {
              "type": "string"
            },
            "text/plain": [
              "'حدثنا عبد الله بن يوسف، قال أخبرنا مالك، عن هشام بن عروة، عن أبيه، عن عائشة أم المؤمنين  رضى الله عنها  أن الحارث بن هشام  رضى الله عنه  سأل رسول الله صلى الله عليه وسلم فقال يا رسول الله كيف يأتيك الوحى فقال رسول الله صلى الله عليه وسلم \\u200f\"\\u200f أحيانا يأتيني مثل صلصلة الجرس  وهو أشده على  فيفصم عني وقد وعيت عنه ما قال، وأحيانا يتمثل لي الملك رجلا فيكلمني فأعي ما يقول \\u200f\"\\u200f\\u200f.\\u200f قالت عائشة رضى الله عنها ولقد رأيته ينزل عليه الوحى في اليوم الشديد البرد، فيفصم عنه وإن جبينه ليتفصد عرقا\\u200f.\\u200f'"
            ]
          },
          "metadata": {},
          "execution_count": 43
        }
      ]
    },
    {
      "cell_type": "code",
      "source": [
        "A = tran(data.text_ar[1])\n",
        "for i in range(0,100):\n",
        "  K=[]\n",
        "  K.append(np.dot(sentence_embeddor(A.text),sentence_embeddor(data.text_en[i])))\n",
        "  print(K)"
      ],
      "metadata": {
        "colab": {
          "base_uri": "https://localhost:8080/"
        },
        "id": "hSwq_d1UEeKf",
        "outputId": "fe35fc60-c99e-4002-d3b8-03fb7e1e9725"
      },
      "execution_count": 68,
      "outputs": [
        {
          "output_type": "stream",
          "name": "stdout",
          "text": [
            "0 [0.694684]\n",
            "1 [0.72115254]\n",
            "2 [0.68113375]\n",
            "3 [0.57636505]\n",
            "4 [0.6375247]\n",
            "5 [0.6089247]\n",
            "6 [0.5801759]\n",
            "7 [0.65746486]\n",
            "8 [0.5248315]\n",
            "9 [0.6150158]\n",
            "10 [0.7627026]\n",
            "11 [0.6789244]\n",
            "12 [0.62114394]\n",
            "13 [0.70664436]\n",
            "14 [0.6750711]\n",
            "15 [0.7513515]\n",
            "16 [0.688979]\n",
            "17 [0.53158844]\n",
            "18 [0.5929505]\n",
            "19 [0.65841246]\n",
            "20 [0.76393914]\n",
            "21 [0.49811614]\n",
            "22 [0.5720482]\n",
            "23 [0.65741014]\n",
            "24 [0.65178907]\n",
            "25 [0.765481]\n",
            "26 [0.74699557]\n",
            "27 [0.73477656]\n",
            "28 [0.5688213]\n",
            "29 [0.5649129]\n",
            "30 [0.49355912]\n",
            "31 [0.73064524]\n",
            "32 [0.5279353]\n",
            "33 [0.45890772]\n",
            "34 [0.7300871]\n",
            "35 [0.6584046]\n",
            "36 [0.7264738]\n",
            "37 [0.7818107]\n",
            "38 [0.6903262]\n",
            "39 [0.6081654]\n",
            "40 [0.6588137]\n",
            "41 [0.65812033]\n",
            "42 [0.8004648]\n",
            "43 [0.5476092]\n",
            "44 [0.6686086]\n",
            "45 [0.5684219]\n",
            "46 [0.73655653]\n",
            "47 [0.4729843]\n",
            "48 [0.52921236]\n",
            "49 [0.7782579]\n",
            "50 [0.7530558]\n",
            "51 [0.5169469]\n",
            "52 [0.50229394]\n",
            "53 [0.6798171]\n",
            "54 [0.7468913]\n",
            "55 [0.7807407]\n",
            "56 [0.7799375]\n",
            "57 [0.7984641]\n",
            "58 [0.6702175]\n",
            "59 [0.64370525]\n",
            "60 [0.5767253]\n",
            "61 [0.5620408]\n",
            "62 [0.514761]\n",
            "63 [0.54828864]\n",
            "64 [0.55576766]\n",
            "65 [0.5736238]\n",
            "66 [0.56503415]\n",
            "67 [0.7090831]\n",
            "68 [0.7686565]\n",
            "69 [0.5937947]\n",
            "70 [0.79358]\n",
            "71 [0.50016]\n",
            "72 [0.6801944]\n",
            "73 [0.66828406]\n",
            "74 [0.7543983]\n",
            "75 [0.655964]\n",
            "76 [0.3702351]\n",
            "77 [0.64479226]\n",
            "78 [0.5654985]\n",
            "79 [0.48207408]\n",
            "80 [0.5355672]\n",
            "81 [0.67239153]\n",
            "82 [0.5389639]\n",
            "83 [0.6632911]\n",
            "84 [0.49799255]\n",
            "85 [0.7123476]\n",
            "86 [0.7665254]\n",
            "87 [0.648476]\n",
            "88 [0.57734644]\n",
            "89 [0.6759814]\n",
            "90 [0.564695]\n",
            "91 [0.5605249]\n",
            "92 [0.6469048]\n",
            "93 [0.498877]\n",
            "94 [0.6125965]\n",
            "95 [0.6497352]\n",
            "96 [0.75082624]\n",
            "97 [0.69126827]\n",
            "98 [0.7221371]\n",
            "99 [0.591631]\n"
          ]
        }
      ]
    },
    {
      "cell_type": "code",
      "source": [
        "def normalize2(sentence):\n",
        "    '''\n",
        "    Input Arguments:\n",
        "        string of words\n",
        "    return:\n",
        "        string of words in standardize form\n",
        "    '''\n",
        "    sentence = re.sub(\"[إأآا]\", \"ا\", sentence)\n",
        "    sentence = re.sub(\"ى\", \"ي\", sentence)\n",
        "    sentence = re.sub(\"ؤ\", \"ء\", sentence)\n",
        "    sentence = re.sub(\"ئ\", \"ء\", sentence)\n",
        "    sentence = re.sub(\"ة\", \"ه\", sentence)\n",
        "    sentence = re.sub(\"گ\", \"ك\", sentence)\n",
        "    return sentence"
      ],
      "metadata": {
        "id": "czUdCmU2lWc1"
      },
      "execution_count": 69,
      "outputs": []
    },
    {
      "cell_type": "code",
      "source": [
        "def removing_ar_stopwords(text):\n",
        "    \"\"\"\n",
        "        Removes Stop Words\n",
        "        \n",
        "    \"\"\"\n",
        "\n",
        "    original_words = []\n",
        "    words = word_tokenize(text) # works on one string not list\n",
        "    for word in words:\n",
        "        if word not in stop_words:\n",
        "            original_words.append(word)\n",
        "    filtered_sentence = \" \".join(original_words)\n",
        "    return filtered_sentence"
      ],
      "metadata": {
        "id": "Dz9aEYcQo9FS"
      },
      "execution_count": null,
      "outputs": []
    },
    {
      "cell_type": "code",
      "source": [
        "def clearReg(text):\n",
        "    \"\"\"\n",
        "        This function for getting the normal values of out of lemmatization function\n",
        "        that takse a string of dict as a \n",
        "        takes  : '{\"result\":[\"امر\",\"ب\",\"أخذ\",\"ما\",\"نهى\",\"ه\",\"انتهى\"]}'\n",
        "        return : ['امر أخذ ما نهى انتهى']\n",
        "    \"\"\"\n",
        "    each_lemma_word = []\n",
        "    each_lemma_sentence = []\n",
        "    for hadith in text:\n",
        "        matches = re.findall(r'\\\"(.+?)\\\"',hadith)\n",
        "        for word in matches:\n",
        "            if len(word) >= 2 and word !='result':\n",
        "                each_lemma_word.append(word)\n",
        "        each_lemma_sentence.append(\" \".join(each_lemma_word))\n",
        "        each_lemma_word.clear()\n",
        "    return each_lemma_sentence"
      ],
      "metadata": {
        "id": "CJC16r57pCK-"
      },
      "execution_count": null,
      "outputs": []
    },
    {
      "cell_type": "code",
      "source": [
        "def stemming_1(text):\n",
        "    \"\"\"\n",
        "        1st Stemming function - NLTK by ISRIStemmer.\n",
        "    \"\"\"\n",
        "    st = ISRIStemmer()\n",
        "    stemmend_words = []\n",
        "    words = word_tokenize(text)\n",
        "    for word in words:\n",
        "        stemmend_words.append(st.stem(word))\n",
        "    stemmed_sentence = \" \".join(stemmend_words)\n",
        "    return stemmed_sentence\n",
        "        \n",
        "    \n",
        "    \n",
        "def stemming_2(text):\n",
        "    \"\"\"\n",
        "        2nd Stemming Function with built in library called Tashaphyne.\n",
        "        The documentation ==> https://pypi.org/project/Tashaphyne/\n",
        "    \n",
        "    \"\"\"\n",
        "    import pyarabic.arabrepr\n",
        "    arepr = pyarabic.arabrepr.ArabicRepr()\n",
        "    repr = arepr.repr\n",
        "\n",
        "    from tashaphyne.stemming import ArabicLightStemmer\n",
        "    ArListem = ArabicLightStemmer()\n",
        "\n",
        "    hadiths_without_stop_words_and_with_normalization_and_with_stemming = []\n",
        "\n",
        "    for hadith in hadiths_without_stop_words_and_with_normalization:\n",
        "        words = word_tokenize(hadith)\n",
        "        new_list = []\n",
        "        for word in words:\n",
        "            stem = ArListem.light_stem(word)\n",
        "            stem = ArListem.get_stem()\n",
        "            new_list.append(stem)\n",
        "\n",
        "        hadith_sentence_with_stemming = \" \".join(new_list)\n",
        "        hadiths_without_stop_words_and_with_normalization_and_with_stemming.append(hadith_sentence_with_stemming)\n",
        "        \n",
        "    return hadiths_without_stop_words_and_with_normalization_and_with_stemming"
      ],
      "metadata": {
        "id": "y4l149GWpHxa"
      },
      "execution_count": null,
      "outputs": []
    },
    {
      "cell_type": "code",
      "source": [
        "def lemmatization(text):\n",
        "    \"\"\"\n",
        "        1st Lemmatizing Function using Farasa API, and it should get best result of all the previous functions\n",
        "        return a string from the dictionary corpus '{\"result\":[\"امر\",\"ب\",\"أخذ\",\"ما\",\"نهى\",\"ه\",\"انتهى\"]}'\n",
        "    \"\"\"\n",
        "    import http.client\n",
        "    conn = http.client.HTTPSConnection(\"farasa-api.qcri.org\")\n",
        "    hadith_dict = {}\n",
        "    list_pyload_input = []\n",
        "    list_pyload_out = []\n",
        "    length = len(text)\n",
        "    for h in text[:length]:\n",
        "        q = '{\"text\":'+'\"{}\"'.format(h)+'}'\n",
        "        list_pyload_input.append(q)\n",
        "    headers = { 'content-type': \"application/json\", 'cache-control': \"no-cache\", }\n",
        "    for h in list_pyload_input:\n",
        "        conn.request(\"POST\", \"/msa/webapi/lemma\", h.encode('utf-8'), headers)\n",
        "        res = conn.getresponse()\n",
        "        data = res.read()\n",
        "        list_pyload_out.append(data.decode(\"utf-8\"))\n",
        "        final_result = clearReg(list_pyload_out)     # call clearReg for clean the text\n",
        "    return final_result"
      ],
      "metadata": {
        "id": "zswsfn9IpLYM"
      },
      "execution_count": null,
      "outputs": []
    },
    {
      "cell_type": "code",
      "source": [
        "# Sahih_Bukhari\n",
        "cleared_Hadith_1 = []           # Removing stopwords\n",
        "cleared_Hadith_1_2 = []         # Normalization\n",
        "cleared_Hadith_1_2_3 = []       # Lematization\n",
        "\n",
        "for hadith in all_hadiths_1:\n",
        "    cleared_Hadith_1.append(removing_ar_stopwords(hadith))         # Removing stopwords\n",
        "for hadith in cleared_Hadith_1:\n",
        "    cleared_Hadith_1_2.append(normalize(hadith))                   # Normalization\n",
        "cleared_Hadith_1_2_3 = lemmatization(cleared_Hadith_1_2)           # Lematization\n",
        "\n",
        "print('The size of data:')\n",
        "len(cleared_Hadith_1), len(cleared_Hadith_1_2), len(cleared_Hadith_1_2_3)"
      ],
      "metadata": {
        "id": "HL7VseJhphRT"
      },
      "execution_count": null,
      "outputs": []
    },
    {
      "cell_type": "code",
      "source": [
        "cleared_Hadith_1_2_3[:1]\n"
      ],
      "metadata": {
        "id": "81N4a9TFpk08"
      },
      "execution_count": null,
      "outputs": []
    },
    {
      "cell_type": "code",
      "source": [
        ""
      ],
      "metadata": {
        "id": "ocfeHRLJpl8H"
      },
      "execution_count": null,
      "outputs": []
    }
  ]
}